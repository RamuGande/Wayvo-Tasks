{
 "cells": [
  {
   "cell_type": "code",
   "execution_count": 1,
   "id": "655d2e52",
   "metadata": {},
   "outputs": [],
   "source": [
    "import pandas as pd\n",
    "import numpy as np\n",
    "import matplotlib.pyplot as plt\n",
    "import seaborn as sns\n",
    "\n",
    "import warnings\n",
    "warnings.filterwarnings(\"ignore\")"
   ]
  },
  {
   "cell_type": "code",
   "execution_count": 2,
   "id": "644147cb",
   "metadata": {},
   "outputs": [],
   "source": [
    "from sklearn.datasets import make_classification\n",
    "x,y = make_classification(n_samples = 1000,n_classes = 2,n_clusters_per_class = 2,n_redundant = 0,n_features = 2 )"
   ]
  },
  {
   "cell_type": "code",
   "execution_count": 3,
   "id": "c553e09c",
   "metadata": {},
   "outputs": [
    {
     "data": {
      "text/plain": [
       "array([[-0.87251969, -2.02242818],\n",
       "       [-0.93891381,  1.13760382],\n",
       "       [-0.59281581, -0.17854239],\n",
       "       ...,\n",
       "       [-2.20335926, -0.46884481],\n",
       "       [-0.04070272,  2.26512516],\n",
       "       [ 2.00411772, -0.38265061]])"
      ]
     },
     "execution_count": 3,
     "metadata": {},
     "output_type": "execute_result"
    }
   ],
   "source": [
    "x"
   ]
  },
  {
   "cell_type": "code",
   "execution_count": 4,
   "id": "d69559ae",
   "metadata": {},
   "outputs": [
    {
     "data": {
      "text/plain": [
       "array([0, 1, 0, 1, 0, 0, 1, 1, 0, 1, 1, 1, 1, 0, 1, 1, 0, 0, 0, 1, 0, 0,\n",
       "       0, 1, 1, 1, 0, 1, 1, 0, 0, 0, 0, 1, 1, 1, 1, 0, 1, 1, 0, 1, 1, 0,\n",
       "       1, 1, 0, 1, 1, 1, 0, 0, 1, 1, 1, 1, 0, 0, 0, 1, 0, 0, 1, 1, 0, 1,\n",
       "       1, 0, 0, 1, 1, 1, 1, 1, 0, 0, 0, 0, 0, 0, 1, 0, 1, 0, 1, 0, 0, 1,\n",
       "       0, 0, 1, 0, 0, 0, 1, 0, 0, 1, 1, 0, 1, 0, 0, 0, 0, 1, 0, 1, 0, 0,\n",
       "       0, 1, 1, 1, 0, 1, 1, 1, 1, 1, 0, 1, 0, 0, 0, 1, 1, 0, 0, 0, 0, 0,\n",
       "       0, 0, 0, 1, 1, 1, 1, 1, 1, 0, 1, 1, 0, 1, 0, 1, 1, 1, 1, 1, 0, 0,\n",
       "       0, 1, 1, 1, 0, 0, 0, 0, 1, 1, 0, 1, 0, 0, 1, 0, 1, 1, 0, 0, 1, 1,\n",
       "       0, 0, 0, 0, 1, 0, 1, 0, 1, 0, 0, 0, 1, 0, 0, 1, 0, 1, 1, 1, 1, 0,\n",
       "       1, 1, 0, 0, 0, 1, 0, 1, 0, 1, 0, 1, 1, 1, 0, 1, 0, 1, 1, 0, 0, 0,\n",
       "       0, 1, 1, 0, 1, 0, 0, 0, 0, 0, 1, 1, 0, 1, 1, 1, 1, 1, 1, 0, 0, 1,\n",
       "       0, 0, 0, 1, 0, 1, 1, 0, 1, 0, 0, 0, 0, 0, 0, 1, 0, 0, 0, 1, 0, 0,\n",
       "       1, 1, 1, 0, 0, 1, 1, 0, 0, 0, 0, 1, 0, 1, 1, 0, 1, 0, 1, 0, 0, 1,\n",
       "       1, 1, 0, 1, 0, 0, 1, 0, 1, 1, 1, 1, 1, 0, 1, 1, 1, 0, 1, 1, 0, 0,\n",
       "       1, 0, 0, 1, 1, 0, 0, 1, 0, 1, 1, 1, 0, 0, 1, 0, 0, 1, 1, 0, 0, 0,\n",
       "       0, 1, 0, 0, 1, 0, 0, 1, 1, 1, 1, 1, 1, 0, 1, 0, 0, 0, 0, 1, 0, 0,\n",
       "       1, 0, 0, 1, 1, 1, 1, 0, 1, 0, 0, 0, 0, 1, 0, 1, 0, 1, 0, 1, 0, 0,\n",
       "       0, 1, 1, 1, 1, 1, 0, 1, 0, 1, 0, 1, 0, 1, 0, 1, 1, 1, 1, 1, 1, 0,\n",
       "       1, 1, 0, 1, 1, 0, 0, 0, 1, 1, 1, 0, 0, 1, 0, 1, 1, 0, 0, 1, 0, 1,\n",
       "       0, 0, 0, 1, 1, 0, 0, 1, 1, 0, 0, 1, 0, 1, 1, 0, 1, 1, 1, 1, 0, 0,\n",
       "       0, 0, 1, 1, 1, 1, 0, 1, 1, 0, 0, 0, 1, 0, 1, 0, 1, 0, 0, 0, 1, 0,\n",
       "       0, 0, 1, 1, 0, 1, 0, 1, 1, 1, 1, 1, 1, 1, 0, 1, 1, 0, 1, 0, 0, 1,\n",
       "       1, 0, 1, 1, 0, 1, 0, 0, 0, 0, 0, 1, 1, 1, 1, 1, 1, 1, 1, 1, 1, 1,\n",
       "       1, 1, 1, 1, 1, 1, 0, 0, 1, 0, 0, 0, 0, 1, 1, 1, 0, 0, 0, 1, 0, 0,\n",
       "       1, 1, 0, 0, 1, 1, 0, 1, 0, 0, 0, 0, 0, 1, 1, 0, 1, 1, 1, 1, 1, 0,\n",
       "       0, 1, 0, 1, 0, 1, 0, 0, 1, 0, 0, 0, 1, 0, 0, 0, 0, 1, 0, 1, 0, 0,\n",
       "       1, 0, 0, 1, 1, 0, 0, 1, 0, 0, 1, 0, 1, 1, 0, 1, 1, 0, 1, 1, 0, 0,\n",
       "       1, 0, 1, 0, 1, 0, 1, 0, 0, 1, 1, 1, 0, 1, 1, 0, 0, 1, 1, 1, 1, 1,\n",
       "       1, 0, 1, 1, 1, 1, 1, 1, 1, 0, 0, 1, 0, 0, 1, 0, 0, 0, 0, 1, 1, 1,\n",
       "       0, 0, 1, 0, 1, 0, 1, 1, 1, 0, 1, 1, 1, 0, 1, 0, 0, 0, 1, 0, 0, 0,\n",
       "       1, 1, 1, 1, 0, 1, 0, 0, 0, 0, 1, 1, 0, 0, 0, 1, 0, 1, 1, 0, 0, 1,\n",
       "       1, 1, 1, 0, 0, 0, 0, 1, 1, 0, 0, 0, 0, 0, 1, 0, 1, 0, 0, 1, 1, 0,\n",
       "       1, 1, 1, 1, 1, 1, 1, 1, 1, 0, 0, 1, 1, 0, 1, 1, 1, 1, 1, 0, 0, 0,\n",
       "       0, 0, 0, 0, 1, 0, 1, 0, 1, 0, 1, 0, 1, 0, 1, 1, 0, 0, 0, 1, 0, 1,\n",
       "       1, 0, 1, 1, 0, 0, 0, 0, 1, 0, 1, 0, 1, 0, 0, 0, 0, 1, 0, 1, 1, 1,\n",
       "       0, 1, 0, 0, 0, 0, 0, 1, 0, 1, 0, 0, 0, 1, 0, 0, 1, 0, 1, 1, 0, 0,\n",
       "       0, 0, 0, 0, 0, 1, 1, 1, 0, 1, 0, 1, 0, 0, 1, 0, 0, 0, 1, 1, 1, 0,\n",
       "       1, 1, 0, 0, 1, 1, 1, 1, 1, 1, 0, 1, 0, 1, 1, 0, 1, 0, 0, 1, 0, 0,\n",
       "       0, 1, 0, 0, 0, 0, 0, 0, 1, 1, 0, 0, 0, 1, 0, 0, 1, 1, 1, 1, 1, 0,\n",
       "       1, 1, 1, 0, 0, 0, 1, 0, 0, 0, 1, 0, 1, 0, 1, 0, 1, 1, 0, 1, 0, 0,\n",
       "       0, 0, 1, 0, 0, 0, 0, 1, 1, 1, 0, 0, 1, 0, 1, 1, 0, 0, 1, 0, 0, 0,\n",
       "       0, 0, 1, 1, 0, 0, 1, 1, 1, 0, 1, 1, 1, 1, 0, 1, 1, 1, 0, 0, 0, 1,\n",
       "       1, 0, 0, 0, 0, 1, 0, 0, 1, 0, 0, 0, 1, 0, 1, 0, 0, 1, 1, 1, 1, 0,\n",
       "       0, 1, 1, 0, 0, 1, 1, 0, 1, 1, 1, 1, 1, 0, 0, 0, 1, 0, 0, 1, 0, 1,\n",
       "       0, 1, 0, 1, 1, 0, 1, 0, 0, 1, 0, 1, 1, 1, 1, 1, 0, 1, 0, 0, 1, 0,\n",
       "       1, 0, 0, 0, 0, 1, 0, 0, 1, 0])"
      ]
     },
     "execution_count": 4,
     "metadata": {},
     "output_type": "execute_result"
    }
   ],
   "source": [
    "y"
   ]
  },
  {
   "cell_type": "code",
   "execution_count": 5,
   "id": "fefbc0a7",
   "metadata": {},
   "outputs": [
    {
     "data": {
      "text/html": [
       "<div>\n",
       "<style scoped>\n",
       "    .dataframe tbody tr th:only-of-type {\n",
       "        vertical-align: middle;\n",
       "    }\n",
       "\n",
       "    .dataframe tbody tr th {\n",
       "        vertical-align: top;\n",
       "    }\n",
       "\n",
       "    .dataframe thead th {\n",
       "        text-align: right;\n",
       "    }\n",
       "</style>\n",
       "<table border=\"1\" class=\"dataframe\">\n",
       "  <thead>\n",
       "    <tr style=\"text-align: right;\">\n",
       "      <th></th>\n",
       "      <th>0</th>\n",
       "      <th>1</th>\n",
       "    </tr>\n",
       "  </thead>\n",
       "  <tbody>\n",
       "    <tr>\n",
       "      <th>0</th>\n",
       "      <td>-0.872520</td>\n",
       "      <td>-2.022428</td>\n",
       "    </tr>\n",
       "    <tr>\n",
       "      <th>1</th>\n",
       "      <td>-0.938914</td>\n",
       "      <td>1.137604</td>\n",
       "    </tr>\n",
       "    <tr>\n",
       "      <th>2</th>\n",
       "      <td>-0.592816</td>\n",
       "      <td>-0.178542</td>\n",
       "    </tr>\n",
       "    <tr>\n",
       "      <th>3</th>\n",
       "      <td>1.519473</td>\n",
       "      <td>0.430911</td>\n",
       "    </tr>\n",
       "    <tr>\n",
       "      <th>4</th>\n",
       "      <td>1.153351</td>\n",
       "      <td>-1.201256</td>\n",
       "    </tr>\n",
       "    <tr>\n",
       "      <th>...</th>\n",
       "      <td>...</td>\n",
       "      <td>...</td>\n",
       "    </tr>\n",
       "    <tr>\n",
       "      <th>995</th>\n",
       "      <td>0.864806</td>\n",
       "      <td>0.429615</td>\n",
       "    </tr>\n",
       "    <tr>\n",
       "      <th>996</th>\n",
       "      <td>2.245554</td>\n",
       "      <td>-2.392024</td>\n",
       "    </tr>\n",
       "    <tr>\n",
       "      <th>997</th>\n",
       "      <td>-2.203359</td>\n",
       "      <td>-0.468845</td>\n",
       "    </tr>\n",
       "    <tr>\n",
       "      <th>998</th>\n",
       "      <td>-0.040703</td>\n",
       "      <td>2.265125</td>\n",
       "    </tr>\n",
       "    <tr>\n",
       "      <th>999</th>\n",
       "      <td>2.004118</td>\n",
       "      <td>-0.382651</td>\n",
       "    </tr>\n",
       "  </tbody>\n",
       "</table>\n",
       "<p>1000 rows × 2 columns</p>\n",
       "</div>"
      ],
      "text/plain": [
       "            0         1\n",
       "0   -0.872520 -2.022428\n",
       "1   -0.938914  1.137604\n",
       "2   -0.592816 -0.178542\n",
       "3    1.519473  0.430911\n",
       "4    1.153351 -1.201256\n",
       "..        ...       ...\n",
       "995  0.864806  0.429615\n",
       "996  2.245554 -2.392024\n",
       "997 -2.203359 -0.468845\n",
       "998 -0.040703  2.265125\n",
       "999  2.004118 -0.382651\n",
       "\n",
       "[1000 rows x 2 columns]"
      ]
     },
     "execution_count": 5,
     "metadata": {},
     "output_type": "execute_result"
    }
   ],
   "source": [
    "pd.DataFrame(x)"
   ]
  },
  {
   "cell_type": "code",
   "execution_count": 6,
   "id": "a9f49c8b",
   "metadata": {},
   "outputs": [
    {
     "data": {
      "text/plain": [
       "0     -2.022428\n",
       "1      1.137604\n",
       "2     -0.178542\n",
       "3      0.430911\n",
       "4     -1.201256\n",
       "         ...   \n",
       "995    0.429615\n",
       "996   -2.392024\n",
       "997   -0.468845\n",
       "998    2.265125\n",
       "999   -0.382651\n",
       "Name: 1, Length: 1000, dtype: float64"
      ]
     },
     "execution_count": 6,
     "metadata": {},
     "output_type": "execute_result"
    }
   ],
   "source": [
    "pd.DataFrame(x)[1]"
   ]
  },
  {
   "cell_type": "code",
   "execution_count": 7,
   "id": "f6db0461",
   "metadata": {},
   "outputs": [
    {
     "data": {
      "text/plain": [
       "0     -0.872520\n",
       "1     -0.938914\n",
       "2     -0.592816\n",
       "3      1.519473\n",
       "4      1.153351\n",
       "         ...   \n",
       "995    0.864806\n",
       "996    2.245554\n",
       "997   -2.203359\n",
       "998   -0.040703\n",
       "999    2.004118\n",
       "Name: 0, Length: 1000, dtype: float64"
      ]
     },
     "execution_count": 7,
     "metadata": {},
     "output_type": "execute_result"
    }
   ],
   "source": [
    "pd.DataFrame(x)[0]"
   ]
  },
  {
   "cell_type": "code",
   "execution_count": 8,
   "id": "f1834c63",
   "metadata": {},
   "outputs": [
    {
     "data": {
      "text/plain": [
       "<Axes: xlabel='0', ylabel='1'>"
      ]
     },
     "execution_count": 8,
     "metadata": {},
     "output_type": "execute_result"
    },
    {
     "data": {
      "image/png": "[encoded data removed]",
      "text/plain": [
       "<Figure size 640x480 with 1 Axes>"
      ]
     },
     "metadata": {},
     "output_type": "display_data"
    }
   ],
   "source": [
    "sns.scatterplot(x=pd.DataFrame(x)[0],y=pd.DataFrame(x)[1],hue = y)"
   ]
  },
  {
   "cell_type": "code",
   "execution_count": 9,
   "id": "506fb930",
   "metadata": {},
   "outputs": [],
   "source": [
    "from sklearn.model_selection import train_test_split\n",
    "x_train,x_test,y_train,y_test=train_test_split(x,y)"
   ]
  },
  {
   "cell_type": "code",
   "execution_count": 10,
   "id": "00ae20a1",
   "metadata": {},
   "outputs": [],
   "source": [
    "from sklearn.svm import SVC\n",
    "clf=SVC(kernel = \"linear\")"
   ]
  },
  {
   "cell_type": "code",
   "execution_count": 11,
   "id": "5a41a7ad",
   "metadata": {},
   "outputs": [
    {
     "data": {
      "text/html": [
       "<style>#sk-container-id-1 {color: black;background-color: white;}#sk-container-id-1 pre{padding: 0;}#sk-container-id-1 div.sk-toggleable {background-color: white;}#sk-container-id-1 label.sk-toggleable__label {cursor: pointer;display: block;width: 100%;margin-bottom: 0;padding: 0.3em;box-sizing: border-box;text-align: center;}#sk-container-id-1 label.sk-toggleable__label-arrow:before {content: \"▸\";float: left;margin-right: 0.25em;color: #696969;}#sk-container-id-1 label.sk-toggleable__label-arrow:hover:before {color: black;}#sk-container-id-1 div.sk-estimator:hover label.sk-toggleable__label-arrow:before {color: black;}#sk-container-id-1 div.sk-toggleable__content {max-height: 0;max-width: 0;overflow: hidden;text-align: left;background-color: #f0f8ff;}#sk-container-id-1 div.sk-toggleable__content pre {margin: 0.2em;color: black;border-radius: 0.25em;background-color: #f0f8ff;}#sk-container-id-1 input.sk-toggleable__control:checked~div.sk-toggleable__content {max-height: 200px;max-width: 100%;overflow: auto;}#sk-container-id-1 input.sk-toggleable__control:checked~label.sk-toggleable__label-arrow:before {content: \"▾\";}#sk-container-id-1 div.sk-estimator input.sk-toggleable__control:checked~label.sk-toggleable__label {background-color: #d4ebff;}#sk-container-id-1 div.sk-label input.sk-toggleable__control:checked~label.sk-toggleable__label {background-color: #d4ebff;}#sk-container-id-1 input.sk-hidden--visually {border: 0;clip: rect(1px 1px 1px 1px);clip: rect(1px, 1px, 1px, 1px);height: 1px;margin: -1px;overflow: hidden;padding: 0;position: absolute;width: 1px;}#sk-container-id-1 div.sk-estimator {font-family: monospace;background-color: #f0f8ff;border: 1px dotted black;border-radius: 0.25em;box-sizing: border-box;margin-bottom: 0.5em;}#sk-container-id-1 div.sk-estimator:hover {background-color: #d4ebff;}#sk-container-id-1 div.sk-parallel-item::after {content: \"\";width: 100%;border-bottom: 1px solid gray;flex-grow: 1;}#sk-container-id-1 div.sk-label:hover label.sk-toggleable__label {background-color: #d4ebff;}#sk-container-id-1 div.sk-serial::before {content: \"\";position: absolute;border-left: 1px solid gray;box-sizing: border-box;top: 0;bottom: 0;left: 50%;z-index: 0;}#sk-container-id-1 div.sk-serial {display: flex;flex-direction: column;align-items: center;background-color: white;padding-right: 0.2em;padding-left: 0.2em;position: relative;}#sk-container-id-1 div.sk-item {position: relative;z-index: 1;}#sk-container-id-1 div.sk-parallel {display: flex;align-items: stretch;justify-content: center;background-color: white;position: relative;}#sk-container-id-1 div.sk-item::before, #sk-container-id-1 div.sk-parallel-item::before {content: \"\";position: absolute;border-left: 1px solid gray;box-sizing: border-box;top: 0;bottom: 0;left: 50%;z-index: -1;}#sk-container-id-1 div.sk-parallel-item {display: flex;flex-direction: column;z-index: 1;position: relative;background-color: white;}#sk-container-id-1 div.sk-parallel-item:first-child::after {align-self: flex-end;width: 50%;}#sk-container-id-1 div.sk-parallel-item:last-child::after {align-self: flex-start;width: 50%;}#sk-container-id-1 div.sk-parallel-item:only-child::after {width: 0;}#sk-container-id-1 div.sk-dashed-wrapped {border: 1px dashed gray;margin: 0 0.4em 0.5em 0.4em;box-sizing: border-box;padding-bottom: 0.4em;background-color: white;}#sk-container-id-1 div.sk-label label {font-family: monospace;font-weight: bold;display: inline-block;line-height: 1.2em;}#sk-container-id-1 div.sk-label-container {text-align: center;}#sk-container-id-1 div.sk-container {/* jupyter's `normalize.less` sets `[hidden] { display: none; }` but bootstrap.min.css set `[hidden] { display: none !important; }` so we also need the `!important` here to be able to override the default hidden behavior on the sphinx rendered scikit-learn.org. See: https://github.com/scikit-learn/scikit-learn/issues/21755 */display: inline-block !important;position: relative;}#sk-container-id-1 div.sk-text-repr-fallback {display: none;}</style><div id=\"sk-container-id-1\" class=\"sk-top-container\"><div class=\"sk-text-repr-fallback\"><pre>SVC(kernel=&#x27;linear&#x27;)</pre><b>In a Jupyter environment, please rerun this cell to show the HTML representation or trust the notebook. <br />On GitHub, the HTML representation is unable to render, please try loading this page with nbviewer.org.</b></div><div class=\"sk-container\" hidden><div class=\"sk-item\"><div class=\"sk-estimator sk-toggleable\"><input class=\"sk-toggleable__control sk-hidden--visually\" id=\"sk-estimator-id-1\" type=\"checkbox\" checked><label for=\"sk-estimator-id-1\" class=\"sk-toggleable__label sk-toggleable__label-arrow\">SVC</label><div class=\"sk-toggleable__content\"><pre>SVC(kernel=&#x27;linear&#x27;)</pre></div></div></div></div></div>"
      ],
      "text/plain": [
       "SVC(kernel='linear')"
      ]
     },
     "execution_count": 11,
     "metadata": {},
     "output_type": "execute_result"
    }
   ],
   "source": [
    "clf.fit(x_train,y_train)"
   ]
  },
  {
   "cell_type": "code",
   "execution_count": 12,
   "id": "b23e3ab8",
   "metadata": {},
   "outputs": [
    {
     "data": {
      "text/plain": [
       "array([[0.13344281, 2.21899349]])"
      ]
     },
     "execution_count": 12,
     "metadata": {},
     "output_type": "execute_result"
    }
   ],
   "source": [
    "clf.coef_"
   ]
  },
  {
   "cell_type": "code",
   "execution_count": 13,
   "id": "4b47ebee",
   "metadata": {},
   "outputs": [],
   "source": [
    " from sklearn.metrics import confusion_matrix,accuracy_score,classification_report"
   ]
  },
  {
   "cell_type": "code",
   "execution_count": 14,
   "id": "538bdb30",
   "metadata": {},
   "outputs": [],
   "source": [
    "y_pred=clf.predict(x_test)"
   ]
  },
  {
   "cell_type": "code",
   "execution_count": 15,
   "id": "8c50883a",
   "metadata": {},
   "outputs": [
    {
     "data": {
      "text/plain": [
       "array([[109,  14],\n",
       "       [  8, 119]], dtype=int64)"
      ]
     },
     "execution_count": 15,
     "metadata": {},
     "output_type": "execute_result"
    }
   ],
   "source": [
    "confusion_matrix(y_pred,y_test)"
   ]
  },
  {
   "cell_type": "code",
   "execution_count": 16,
   "id": "a271f995",
   "metadata": {},
   "outputs": [
    {
     "name": "stdout",
     "output_type": "stream",
     "text": [
      "              precision    recall  f1-score   support\n",
      "\n",
      "           0       0.93      0.89      0.91       123\n",
      "           1       0.89      0.94      0.92       127\n",
      "\n",
      "    accuracy                           0.91       250\n",
      "   macro avg       0.91      0.91      0.91       250\n",
      "weighted avg       0.91      0.91      0.91       250\n",
      "\n"
     ]
    }
   ],
   "source": [
    "print(classification_report(y_pred,y_test))"
   ]
  },
  {
   "cell_type": "code",
   "execution_count": 17,
   "id": "6ee3d33b",
   "metadata": {},
   "outputs": [
    {
     "data": {
      "text/plain": [
       "0.912"
      ]
     },
     "execution_count": 17,
     "metadata": {},
     "output_type": "execute_result"
    }
   ],
   "source": [
    "accuracy_score(y_pred,y_test)"
   ]
  },
  {
   "cell_type": "code",
   "execution_count": 18,
   "id": "befae67d",
   "metadata": {},
   "outputs": [],
   "source": [
    "#hyperparameter tuning. with svc\n",
    "from sklearn.model_selection import  GridSearchCV\n",
    "params = {'C' :[1,2,3,50,100,300],\n",
    "          'gamma':[1,0.1,0.2,0.001,0.003],\n",
    "          'kernel':['linear']\n",
    "         }\n",
    "grid = GridSearchCV(SVC(),param_grid = params,cv=5,verbose = 3)"
   ]
  },
  {
   "cell_type": "code",
   "execution_count": 19,
   "id": "dd351940",
   "metadata": {},
   "outputs": [
    {
     "name": "stdout",
     "output_type": "stream",
     "text": [
      "Fitting 5 folds for each of 30 candidates, totalling 150 fits\n",
      "[CV 1/5] END .......C=1, gamma=1, kernel=linear;, score=0.940 total time=   0.0s\n",
      "[CV 2/5] END .......C=1, gamma=1, kernel=linear;, score=0.920 total time=   0.0s\n",
      "[CV 3/5] END .......C=1, gamma=1, kernel=linear;, score=0.887 total time=   0.0s\n",
      "[CV 4/5] END .......C=1, gamma=1, kernel=linear;, score=0.920 total time=   0.0s\n",
      "[CV 5/5] END .......C=1, gamma=1, kernel=linear;, score=0.953 total time=   0.0s\n",
      "[CV 1/5] END .....C=1, gamma=0.1, kernel=linear;, score=0.940 total time=   0.0s\n",
      "[CV 2/5] END .....C=1, gamma=0.1, kernel=linear;, score=0.920 total time=   0.0s\n",
      "[CV 3/5] END .....C=1, gamma=0.1, kernel=linear;, score=0.887 total time=   0.0s\n",
      "[CV 4/5] END .....C=1, gamma=0.1, kernel=linear;, score=0.920 total time=   0.0s\n",
      "[CV 5/5] END .....C=1, gamma=0.1, kernel=linear;, score=0.953 total time=   0.0s\n",
      "[CV 1/5] END .....C=1, gamma=0.2, kernel=linear;, score=0.940 total time=   0.0s\n",
      "[CV 2/5] END .....C=1, gamma=0.2, kernel=linear;, score=0.920 total time=   0.0s\n",
      "[CV 3/5] END .....C=1, gamma=0.2, kernel=linear;, score=0.887 total time=   0.0s\n",
      "[CV 4/5] END .....C=1, gamma=0.2, kernel=linear;, score=0.920 total time=   0.0s\n",
      "[CV 5/5] END .....C=1, gamma=0.2, kernel=linear;, score=0.953 total time=   0.0s\n",
      "[CV 1/5] END ...C=1, gamma=0.001, kernel=linear;, score=0.940 total time=   0.0s\n",
      "[CV 2/5] END ...C=1, gamma=0.001, kernel=linear;, score=0.920 total time=   0.0s\n",
      "[CV 3/5] END ...C=1, gamma=0.001, kernel=linear;, score=0.887 total time=   0.0s\n",
      "[CV 4/5] END ...C=1, gamma=0.001, kernel=linear;, score=0.920 total time=   0.0s\n",
      "[CV 5/5] END ...C=1, gamma=0.001, kernel=linear;, score=0.953 total time=   0.0s\n",
      "[CV 1/5] END ...C=1, gamma=0.003, kernel=linear;, score=0.940 total time=   0.0s\n",
      "[CV 2/5] END ...C=1, gamma=0.003, kernel=linear;, score=0.920 total time=   0.0s\n",
      "[CV 3/5] END ...C=1, gamma=0.003, kernel=linear;, score=0.887 total time=   0.0s\n",
      "[CV 4/5] END ...C=1, gamma=0.003, kernel=linear;, score=0.920 total time=   0.0s\n",
      "[CV 5/5] END ...C=1, gamma=0.003, kernel=linear;, score=0.953 total time=   0.0s\n",
      "[CV 1/5] END .......C=2, gamma=1, kernel=linear;, score=0.940 total time=   0.0s\n",
      "[CV 2/5] END .......C=2, gamma=1, kernel=linear;, score=0.920 total time=   0.0s\n",
      "[CV 3/5] END .......C=2, gamma=1, kernel=linear;, score=0.887 total time=   0.0s\n",
      "[CV 4/5] END .......C=2, gamma=1, kernel=linear;, score=0.920 total time=   0.0s\n",
      "[CV 5/5] END .......C=2, gamma=1, kernel=linear;, score=0.953 total time=   0.0s\n",
      "[CV 1/5] END .....C=2, gamma=0.1, kernel=linear;, score=0.940 total time=   0.0s\n",
      "[CV 2/5] END .....C=2, gamma=0.1, kernel=linear;, score=0.920 total time=   0.0s\n",
      "[CV 3/5] END .....C=2, gamma=0.1, kernel=linear;, score=0.887 total time=   0.0s\n",
      "[CV 4/5] END .....C=2, gamma=0.1, kernel=linear;, score=0.920 total time=   0.0s\n",
      "[CV 5/5] END .....C=2, gamma=0.1, kernel=linear;, score=0.953 total time=   0.0s\n",
      "[CV 1/5] END .....C=2, gamma=0.2, kernel=linear;, score=0.940 total time=   0.0s\n",
      "[CV 2/5] END .....C=2, gamma=0.2, kernel=linear;, score=0.920 total time=   0.0s\n",
      "[CV 3/5] END .....C=2, gamma=0.2, kernel=linear;, score=0.887 total time=   0.0s\n",
      "[CV 4/5] END .....C=2, gamma=0.2, kernel=linear;, score=0.920 total time=   0.0s\n",
      "[CV 5/5] END .....C=2, gamma=0.2, kernel=linear;, score=0.953 total time=   0.0s\n",
      "[CV 1/5] END ...C=2, gamma=0.001, kernel=linear;, score=0.940 total time=   0.0s\n",
      "[CV 2/5] END ...C=2, gamma=0.001, kernel=linear;, score=0.920 total time=   0.0s\n",
      "[CV 3/5] END ...C=2, gamma=0.001, kernel=linear;, score=0.887 total time=   0.0s\n",
      "[CV 4/5] END ...C=2, gamma=0.001, kernel=linear;, score=0.920 total time=   0.0s\n",
      "[CV 5/5] END ...C=2, gamma=0.001, kernel=linear;, score=0.953 total time=   0.0s\n",
      "[CV 1/5] END ...C=2, gamma=0.003, kernel=linear;, score=0.940 total time=   0.0s\n",
      "[CV 2/5] END ...C=2, gamma=0.003, kernel=linear;, score=0.920 total time=   0.0s\n",
      "[CV 3/5] END ...C=2, gamma=0.003, kernel=linear;, score=0.887 total time=   0.0s\n",
      "[CV 4/5] END ...C=2, gamma=0.003, kernel=linear;, score=0.920 total time=   0.0s\n",
      "[CV 5/5] END ...C=2, gamma=0.003, kernel=linear;, score=0.953 total time=   0.0s\n",
      "[CV 1/5] END .......C=3, gamma=1, kernel=linear;, score=0.940 total time=   0.0s\n",
      "[CV 2/5] END .......C=3, gamma=1, kernel=linear;, score=0.920 total time=   0.0s\n",
      "[CV 3/5] END .......C=3, gamma=1, kernel=linear;, score=0.887 total time=   0.0s\n",
      "[CV 4/5] END .......C=3, gamma=1, kernel=linear;, score=0.913 total time=   0.0s\n",
      "[CV 5/5] END .......C=3, gamma=1, kernel=linear;, score=0.953 total time=   0.0s\n",
      "[CV 1/5] END .....C=3, gamma=0.1, kernel=linear;, score=0.940 total time=   0.0s\n",
      "[CV 2/5] END .....C=3, gamma=0.1, kernel=linear;, score=0.920 total time=   0.0s\n",
      "[CV 3/5] END .....C=3, gamma=0.1, kernel=linear;, score=0.887 total time=   0.0s\n",
      "[CV 4/5] END .....C=3, gamma=0.1, kernel=linear;, score=0.913 total time=   0.0s\n",
      "[CV 5/5] END .....C=3, gamma=0.1, kernel=linear;, score=0.953 total time=   0.0s\n",
      "[CV 1/5] END .....C=3, gamma=0.2, kernel=linear;, score=0.940 total time=   0.0s\n",
      "[CV 2/5] END .....C=3, gamma=0.2, kernel=linear;, score=0.920 total time=   0.0s\n",
      "[CV 3/5] END .....C=3, gamma=0.2, kernel=linear;, score=0.887 total time=   0.0s\n",
      "[CV 4/5] END .....C=3, gamma=0.2, kernel=linear;, score=0.913 total time=   0.0s\n",
      "[CV 5/5] END .....C=3, gamma=0.2, kernel=linear;, score=0.953 total time=   0.0s\n",
      "[CV 1/5] END ...C=3, gamma=0.001, kernel=linear;, score=0.940 total time=   0.0s\n",
      "[CV 2/5] END ...C=3, gamma=0.001, kernel=linear;, score=0.920 total time=   0.0s\n",
      "[CV 3/5] END ...C=3, gamma=0.001, kernel=linear;, score=0.887 total time=   0.0s\n",
      "[CV 4/5] END ...C=3, gamma=0.001, kernel=linear;, score=0.913 total time=   0.0s\n",
      "[CV 5/5] END ...C=3, gamma=0.001, kernel=linear;, score=0.953 total time=   0.0s\n",
      "[CV 1/5] END ...C=3, gamma=0.003, kernel=linear;, score=0.940 total time=   0.0s\n",
      "[CV 2/5] END ...C=3, gamma=0.003, kernel=linear;, score=0.920 total time=   0.0s\n",
      "[CV 3/5] END ...C=3, gamma=0.003, kernel=linear;, score=0.887 total time=   0.0s\n",
      "[CV 4/5] END ...C=3, gamma=0.003, kernel=linear;, score=0.913 total time=   0.0s\n",
      "[CV 5/5] END ...C=3, gamma=0.003, kernel=linear;, score=0.953 total time=   0.0s\n",
      "[CV 1/5] END ......C=50, gamma=1, kernel=linear;, score=0.940 total time=   0.0s\n",
      "[CV 2/5] END ......C=50, gamma=1, kernel=linear;, score=0.920 total time=   0.0s\n",
      "[CV 3/5] END ......C=50, gamma=1, kernel=linear;, score=0.887 total time=   0.0s\n",
      "[CV 4/5] END ......C=50, gamma=1, kernel=linear;, score=0.920 total time=   0.0s\n",
      "[CV 5/5] END ......C=50, gamma=1, kernel=linear;, score=0.953 total time=   0.0s\n",
      "[CV 1/5] END ....C=50, gamma=0.1, kernel=linear;, score=0.940 total time=   0.0s\n",
      "[CV 2/5] END ....C=50, gamma=0.1, kernel=linear;, score=0.920 total time=   0.0s\n",
      "[CV 3/5] END ....C=50, gamma=0.1, kernel=linear;, score=0.887 total time=   0.0s\n",
      "[CV 4/5] END ....C=50, gamma=0.1, kernel=linear;, score=0.920 total time=   0.0s\n",
      "[CV 5/5] END ....C=50, gamma=0.1, kernel=linear;, score=0.953 total time=   0.0s\n",
      "[CV 1/5] END ....C=50, gamma=0.2, kernel=linear;, score=0.940 total time=   0.0s\n",
      "[CV 2/5] END ....C=50, gamma=0.2, kernel=linear;, score=0.920 total time=   0.0s\n",
      "[CV 3/5] END ....C=50, gamma=0.2, kernel=linear;, score=0.887 total time=   0.0s\n",
      "[CV 4/5] END ....C=50, gamma=0.2, kernel=linear;, score=0.920 total time=   0.0s\n",
      "[CV 5/5] END ....C=50, gamma=0.2, kernel=linear;, score=0.953 total time=   0.0s\n",
      "[CV 1/5] END ..C=50, gamma=0.001, kernel=linear;, score=0.940 total time=   0.0s\n",
      "[CV 2/5] END ..C=50, gamma=0.001, kernel=linear;, score=0.920 total time=   0.0s\n",
      "[CV 3/5] END ..C=50, gamma=0.001, kernel=linear;, score=0.887 total time=   0.0s\n",
      "[CV 4/5] END ..C=50, gamma=0.001, kernel=linear;, score=0.920 total time=   0.0s\n",
      "[CV 5/5] END ..C=50, gamma=0.001, kernel=linear;, score=0.953 total time=   0.0s\n",
      "[CV 1/5] END ..C=50, gamma=0.003, kernel=linear;, score=0.940 total time=   0.0s\n",
      "[CV 2/5] END ..C=50, gamma=0.003, kernel=linear;, score=0.920 total time=   0.0s\n",
      "[CV 3/5] END ..C=50, gamma=0.003, kernel=linear;, score=0.887 total time=   0.0s\n",
      "[CV 4/5] END ..C=50, gamma=0.003, kernel=linear;, score=0.920 total time=   0.0s\n",
      "[CV 5/5] END ..C=50, gamma=0.003, kernel=linear;, score=0.953 total time=   0.0s\n",
      "[CV 1/5] END .....C=100, gamma=1, kernel=linear;, score=0.940 total time=   0.0s\n"
     ]
    },
    {
     "name": "stdout",
     "output_type": "stream",
     "text": [
      "[CV 2/5] END .....C=100, gamma=1, kernel=linear;, score=0.920 total time=   0.0s\n",
      "[CV 3/5] END .....C=100, gamma=1, kernel=linear;, score=0.887 total time=   0.0s\n",
      "[CV 4/5] END .....C=100, gamma=1, kernel=linear;, score=0.920 total time=   0.0s\n",
      "[CV 5/5] END .....C=100, gamma=1, kernel=linear;, score=0.953 total time=   0.0s\n",
      "[CV 1/5] END ...C=100, gamma=0.1, kernel=linear;, score=0.940 total time=   0.0s\n",
      "[CV 2/5] END ...C=100, gamma=0.1, kernel=linear;, score=0.920 total time=   0.0s\n",
      "[CV 3/5] END ...C=100, gamma=0.1, kernel=linear;, score=0.887 total time=   0.0s\n",
      "[CV 4/5] END ...C=100, gamma=0.1, kernel=linear;, score=0.920 total time=   0.0s\n",
      "[CV 5/5] END ...C=100, gamma=0.1, kernel=linear;, score=0.953 total time=   0.0s\n",
      "[CV 1/5] END ...C=100, gamma=0.2, kernel=linear;, score=0.940 total time=   0.0s\n",
      "[CV 2/5] END ...C=100, gamma=0.2, kernel=linear;, score=0.920 total time=   0.0s\n",
      "[CV 3/5] END ...C=100, gamma=0.2, kernel=linear;, score=0.887 total time=   0.0s\n",
      "[CV 4/5] END ...C=100, gamma=0.2, kernel=linear;, score=0.920 total time=   0.0s\n",
      "[CV 5/5] END ...C=100, gamma=0.2, kernel=linear;, score=0.953 total time=   0.0s\n",
      "[CV 1/5] END .C=100, gamma=0.001, kernel=linear;, score=0.940 total time=   0.0s\n",
      "[CV 2/5] END .C=100, gamma=0.001, kernel=linear;, score=0.920 total time=   0.0s\n",
      "[CV 3/5] END .C=100, gamma=0.001, kernel=linear;, score=0.887 total time=   0.0s\n",
      "[CV 4/5] END .C=100, gamma=0.001, kernel=linear;, score=0.920 total time=   0.0s\n",
      "[CV 5/5] END .C=100, gamma=0.001, kernel=linear;, score=0.953 total time=   0.0s\n",
      "[CV 1/5] END .C=100, gamma=0.003, kernel=linear;, score=0.940 total time=   0.0s\n",
      "[CV 2/5] END .C=100, gamma=0.003, kernel=linear;, score=0.920 total time=   0.0s\n",
      "[CV 3/5] END .C=100, gamma=0.003, kernel=linear;, score=0.887 total time=   0.0s\n",
      "[CV 4/5] END .C=100, gamma=0.003, kernel=linear;, score=0.920 total time=   0.0s\n",
      "[CV 5/5] END .C=100, gamma=0.003, kernel=linear;, score=0.953 total time=   0.0s\n",
      "[CV 1/5] END .....C=300, gamma=1, kernel=linear;, score=0.940 total time=   0.0s\n",
      "[CV 2/5] END .....C=300, gamma=1, kernel=linear;, score=0.920 total time=   0.0s\n",
      "[CV 3/5] END .....C=300, gamma=1, kernel=linear;, score=0.887 total time=   0.0s\n",
      "[CV 4/5] END .....C=300, gamma=1, kernel=linear;, score=0.920 total time=   0.0s\n",
      "[CV 5/5] END .....C=300, gamma=1, kernel=linear;, score=0.953 total time=   0.0s\n",
      "[CV 1/5] END ...C=300, gamma=0.1, kernel=linear;, score=0.940 total time=   0.0s\n",
      "[CV 2/5] END ...C=300, gamma=0.1, kernel=linear;, score=0.920 total time=   0.0s\n",
      "[CV 3/5] END ...C=300, gamma=0.1, kernel=linear;, score=0.887 total time=   0.0s\n",
      "[CV 4/5] END ...C=300, gamma=0.1, kernel=linear;, score=0.920 total time=   0.0s\n",
      "[CV 5/5] END ...C=300, gamma=0.1, kernel=linear;, score=0.953 total time=   0.0s\n",
      "[CV 1/5] END ...C=300, gamma=0.2, kernel=linear;, score=0.940 total time=   0.0s\n",
      "[CV 2/5] END ...C=300, gamma=0.2, kernel=linear;, score=0.920 total time=   0.0s\n",
      "[CV 3/5] END ...C=300, gamma=0.2, kernel=linear;, score=0.887 total time=   0.0s\n",
      "[CV 4/5] END ...C=300, gamma=0.2, kernel=linear;, score=0.920 total time=   0.0s\n",
      "[CV 5/5] END ...C=300, gamma=0.2, kernel=linear;, score=0.953 total time=   0.0s\n",
      "[CV 1/5] END .C=300, gamma=0.001, kernel=linear;, score=0.940 total time=   0.0s\n",
      "[CV 2/5] END .C=300, gamma=0.001, kernel=linear;, score=0.920 total time=   0.0s\n",
      "[CV 3/5] END .C=300, gamma=0.001, kernel=linear;, score=0.887 total time=   0.0s\n",
      "[CV 4/5] END .C=300, gamma=0.001, kernel=linear;, score=0.920 total time=   0.0s\n",
      "[CV 5/5] END .C=300, gamma=0.001, kernel=linear;, score=0.953 total time=   0.0s\n",
      "[CV 1/5] END .C=300, gamma=0.003, kernel=linear;, score=0.940 total time=   0.0s\n",
      "[CV 2/5] END .C=300, gamma=0.003, kernel=linear;, score=0.920 total time=   0.0s\n",
      "[CV 3/5] END .C=300, gamma=0.003, kernel=linear;, score=0.887 total time=   0.0s\n",
      "[CV 4/5] END .C=300, gamma=0.003, kernel=linear;, score=0.920 total time=   0.0s\n",
      "[CV 5/5] END .C=300, gamma=0.003, kernel=linear;, score=0.953 total time=   0.0s\n"
     ]
    },
    {
     "data": {
      "text/html": [
       "<style>#sk-container-id-2 {color: black;background-color: white;}#sk-container-id-2 pre{padding: 0;}#sk-container-id-2 div.sk-toggleable {background-color: white;}#sk-container-id-2 label.sk-toggleable__label {cursor: pointer;display: block;width: 100%;margin-bottom: 0;padding: 0.3em;box-sizing: border-box;text-align: center;}#sk-container-id-2 label.sk-toggleable__label-arrow:before {content: \"▸\";float: left;margin-right: 0.25em;color: #696969;}#sk-container-id-2 label.sk-toggleable__label-arrow:hover:before {color: black;}#sk-container-id-2 div.sk-estimator:hover label.sk-toggleable__label-arrow:before {color: black;}#sk-container-id-2 div.sk-toggleable__content {max-height: 0;max-width: 0;overflow: hidden;text-align: left;background-color: #f0f8ff;}#sk-container-id-2 div.sk-toggleable__content pre {margin: 0.2em;color: black;border-radius: 0.25em;background-color: #f0f8ff;}#sk-container-id-2 input.sk-toggleable__control:checked~div.sk-toggleable__content {max-height: 200px;max-width: 100%;overflow: auto;}#sk-container-id-2 input.sk-toggleable__control:checked~label.sk-toggleable__label-arrow:before {content: \"▾\";}#sk-container-id-2 div.sk-estimator input.sk-toggleable__control:checked~label.sk-toggleable__label {background-color: #d4ebff;}#sk-container-id-2 div.sk-label input.sk-toggleable__control:checked~label.sk-toggleable__label {background-color: #d4ebff;}#sk-container-id-2 input.sk-hidden--visually {border: 0;clip: rect(1px 1px 1px 1px);clip: rect(1px, 1px, 1px, 1px);height: 1px;margin: -1px;overflow: hidden;padding: 0;position: absolute;width: 1px;}#sk-container-id-2 div.sk-estimator {font-family: monospace;background-color: #f0f8ff;border: 1px dotted black;border-radius: 0.25em;box-sizing: border-box;margin-bottom: 0.5em;}#sk-container-id-2 div.sk-estimator:hover {background-color: #d4ebff;}#sk-container-id-2 div.sk-parallel-item::after {content: \"\";width: 100%;border-bottom: 1px solid gray;flex-grow: 1;}#sk-container-id-2 div.sk-label:hover label.sk-toggleable__label {background-color: #d4ebff;}#sk-container-id-2 div.sk-serial::before {content: \"\";position: absolute;border-left: 1px solid gray;box-sizing: border-box;top: 0;bottom: 0;left: 50%;z-index: 0;}#sk-container-id-2 div.sk-serial {display: flex;flex-direction: column;align-items: center;background-color: white;padding-right: 0.2em;padding-left: 0.2em;position: relative;}#sk-container-id-2 div.sk-item {position: relative;z-index: 1;}#sk-container-id-2 div.sk-parallel {display: flex;align-items: stretch;justify-content: center;background-color: white;position: relative;}#sk-container-id-2 div.sk-item::before, #sk-container-id-2 div.sk-parallel-item::before {content: \"\";position: absolute;border-left: 1px solid gray;box-sizing: border-box;top: 0;bottom: 0;left: 50%;z-index: -1;}#sk-container-id-2 div.sk-parallel-item {display: flex;flex-direction: column;z-index: 1;position: relative;background-color: white;}#sk-container-id-2 div.sk-parallel-item:first-child::after {align-self: flex-end;width: 50%;}#sk-container-id-2 div.sk-parallel-item:last-child::after {align-self: flex-start;width: 50%;}#sk-container-id-2 div.sk-parallel-item:only-child::after {width: 0;}#sk-container-id-2 div.sk-dashed-wrapped {border: 1px dashed gray;margin: 0 0.4em 0.5em 0.4em;box-sizing: border-box;padding-bottom: 0.4em;background-color: white;}#sk-container-id-2 div.sk-label label {font-family: monospace;font-weight: bold;display: inline-block;line-height: 1.2em;}#sk-container-id-2 div.sk-label-container {text-align: center;}#sk-container-id-2 div.sk-container {/* jupyter's `normalize.less` sets `[hidden] { display: none; }` but bootstrap.min.css set `[hidden] { display: none !important; }` so we also need the `!important` here to be able to override the default hidden behavior on the sphinx rendered scikit-learn.org. See: https://github.com/scikit-learn/scikit-learn/issues/21755 */display: inline-block !important;position: relative;}#sk-container-id-2 div.sk-text-repr-fallback {display: none;}</style><div id=\"sk-container-id-2\" class=\"sk-top-container\"><div class=\"sk-text-repr-fallback\"><pre>GridSearchCV(cv=5, estimator=SVC(),\n",
       "             param_grid={&#x27;C&#x27;: [1, 2, 3, 50, 100, 300],\n",
       "                         &#x27;gamma&#x27;: [1, 0.1, 0.2, 0.001, 0.003],\n",
       "                         &#x27;kernel&#x27;: [&#x27;linear&#x27;]},\n",
       "             verbose=3)</pre><b>In a Jupyter environment, please rerun this cell to show the HTML representation or trust the notebook. <br />On GitHub, the HTML representation is unable to render, please try loading this page with nbviewer.org.</b></div><div class=\"sk-container\" hidden><div class=\"sk-item sk-dashed-wrapped\"><div class=\"sk-label-container\"><div class=\"sk-label sk-toggleable\"><input class=\"sk-toggleable__control sk-hidden--visually\" id=\"sk-estimator-id-2\" type=\"checkbox\" ><label for=\"sk-estimator-id-2\" class=\"sk-toggleable__label sk-toggleable__label-arrow\">GridSearchCV</label><div class=\"sk-toggleable__content\"><pre>GridSearchCV(cv=5, estimator=SVC(),\n",
       "             param_grid={&#x27;C&#x27;: [1, 2, 3, 50, 100, 300],\n",
       "                         &#x27;gamma&#x27;: [1, 0.1, 0.2, 0.001, 0.003],\n",
       "                         &#x27;kernel&#x27;: [&#x27;linear&#x27;]},\n",
       "             verbose=3)</pre></div></div></div><div class=\"sk-parallel\"><div class=\"sk-parallel-item\"><div class=\"sk-item\"><div class=\"sk-label-container\"><div class=\"sk-label sk-toggleable\"><input class=\"sk-toggleable__control sk-hidden--visually\" id=\"sk-estimator-id-3\" type=\"checkbox\" ><label for=\"sk-estimator-id-3\" class=\"sk-toggleable__label sk-toggleable__label-arrow\">estimator: SVC</label><div class=\"sk-toggleable__content\"><pre>SVC()</pre></div></div></div><div class=\"sk-serial\"><div class=\"sk-item\"><div class=\"sk-estimator sk-toggleable\"><input class=\"sk-toggleable__control sk-hidden--visually\" id=\"sk-estimator-id-4\" type=\"checkbox\" ><label for=\"sk-estimator-id-4\" class=\"sk-toggleable__label sk-toggleable__label-arrow\">SVC</label><div class=\"sk-toggleable__content\"><pre>SVC()</pre></div></div></div></div></div></div></div></div></div></div>"
      ],
      "text/plain": [
       "GridSearchCV(cv=5, estimator=SVC(),\n",
       "             param_grid={'C': [1, 2, 3, 50, 100, 300],\n",
       "                         'gamma': [1, 0.1, 0.2, 0.001, 0.003],\n",
       "                         'kernel': ['linear']},\n",
       "             verbose=3)"
      ]
     },
     "execution_count": 19,
     "metadata": {},
     "output_type": "execute_result"
    }
   ],
   "source": [
    "grid.fit(x_train,y_train)"
   ]
  },
  {
   "cell_type": "code",
   "execution_count": 20,
   "id": "aa7854e8",
   "metadata": {},
   "outputs": [
    {
     "data": {
      "text/plain": [
       "{'C': 1, 'gamma': 1, 'kernel': 'linear'}"
      ]
     },
     "execution_count": 20,
     "metadata": {},
     "output_type": "execute_result"
    }
   ],
   "source": [
    "grid.best_params_"
   ]
  },
  {
   "cell_type": "code",
   "execution_count": 21,
   "id": "ef0247a1",
   "metadata": {},
   "outputs": [
    {
     "data": {
      "text/plain": [
       "0.924"
      ]
     },
     "execution_count": 21,
     "metadata": {},
     "output_type": "execute_result"
    }
   ],
   "source": [
    "grid.best_score_"
   ]
  },
  {
   "cell_type": "code",
   "execution_count": 22,
   "id": "09987b93",
   "metadata": {},
   "outputs": [
    {
     "data": {
      "text/plain": [
       "array([1, 1, 0, 1, 0, 0, 0, 1, 0, 1, 0, 1, 1, 1, 0, 1, 1, 1, 1, 1, 0, 1,\n",
       "       1, 1, 0, 0, 1, 0, 1, 1, 1, 0, 0, 1, 1, 1, 1, 1, 1, 0, 0, 1, 1, 0,\n",
       "       0, 0, 1, 0, 1, 1, 0, 0, 0, 0, 0, 1, 0, 1, 1, 1, 0, 0, 1, 0, 0, 0,\n",
       "       0, 1, 1, 0, 1, 0, 1, 0, 0, 0, 1, 1, 1, 0, 0, 0, 1, 0, 0, 0, 0, 0,\n",
       "       1, 0, 0, 1, 0, 1, 1, 1, 0, 1, 1, 0, 1, 0, 0, 1, 0, 1, 0, 1, 1, 0,\n",
       "       1, 0, 1, 0, 0, 0, 0, 0, 1, 1, 1, 1, 0, 0, 1, 0, 0, 1, 0, 1, 0, 1,\n",
       "       1, 0, 1, 0, 0, 0, 0, 0, 1, 0, 1, 1, 1, 0, 1, 1, 1, 0, 1, 0, 0, 0,\n",
       "       0, 1, 0, 0, 0, 0, 1, 0, 0, 1, 1, 1, 1, 0, 0, 0, 0, 0, 1, 0, 0, 1,\n",
       "       0, 0, 0, 1, 0, 1, 1, 0, 1, 0, 1, 0, 1, 0, 0, 0, 1, 1, 0, 1, 0, 1,\n",
       "       0, 1, 1, 0, 1, 1, 1, 1, 1, 1, 1, 1, 1, 1, 0, 0, 0, 1, 1, 1, 0, 1,\n",
       "       1, 1, 0, 1, 1, 1, 0, 0, 0, 1, 0, 1, 1, 0, 1, 0, 1, 0, 0, 1, 1, 1,\n",
       "       0, 1, 1, 0, 0, 0, 1, 1])"
      ]
     },
     "execution_count": 22,
     "metadata": {},
     "output_type": "execute_result"
    }
   ],
   "source": [
    "grid.predict(x_test)"
   ]
  },
  {
   "cell_type": "code",
   "execution_count": 23,
   "id": "8a3c8eb4",
   "metadata": {},
   "outputs": [],
   "source": [
    "y_pred = grid.predict(x_test)"
   ]
  },
  {
   "cell_type": "code",
   "execution_count": 24,
   "id": "6ad2dadb",
   "metadata": {},
   "outputs": [
    {
     "name": "stdout",
     "output_type": "stream",
     "text": [
      "              precision    recall  f1-score   support\n",
      "\n",
      "           0       0.93      0.89      0.91       123\n",
      "           1       0.89      0.94      0.92       127\n",
      "\n",
      "    accuracy                           0.91       250\n",
      "   macro avg       0.91      0.91      0.91       250\n",
      "weighted avg       0.91      0.91      0.91       250\n",
      "\n"
     ]
    }
   ],
   "source": [
    "print(classification_report(y_pred,y_test))"
   ]
  },
  {
   "cell_type": "code",
   "execution_count": 25,
   "id": "2fa48dbd",
   "metadata": {},
   "outputs": [
    {
     "data": {
      "text/plain": [
       "0.912"
      ]
     },
     "execution_count": 25,
     "metadata": {},
     "output_type": "execute_result"
    }
   ],
   "source": [
    "accuracy_score(y_pred,y_test)"
   ]
  },
  {
   "cell_type": "code",
   "execution_count": null,
   "id": "f26b872e",
   "metadata": {},
   "outputs": [],
   "source": []
  },
  {
   "cell_type": "code",
   "execution_count": null,
   "id": "ddde0d82",
   "metadata": {},
   "outputs": [],
   "source": []
  },
  {
   "cell_type": "code",
   "execution_count": null,
   "id": "f202bcd9",
   "metadata": {},
   "outputs": [],
   "source": []
  },
  {
   "cell_type": "code",
   "execution_count": null,
   "id": "293f04fd",
   "metadata": {},
   "outputs": [],
   "source": []
  },
  {
   "cell_type": "code",
   "execution_count": null,
   "id": "b41df6ff",
   "metadata": {},
   "outputs": [],
   "source": []
  },
  {
   "cell_type": "code",
   "execution_count": null,
   "id": "7ff8aeb7",
   "metadata": {},
   "outputs": [],
   "source": []
  },
  {
   "cell_type": "code",
   "execution_count": null,
   "id": "e2c730f1",
   "metadata": {},
   "outputs": [],
   "source": []
  },
  {
   "cell_type": "code",
   "execution_count": null,
   "id": "c88926ab",
   "metadata": {},
   "outputs": [],
   "source": []
  },
  {
   "cell_type": "code",
   "execution_count": null,
   "id": "e4b0976f",
   "metadata": {},
   "outputs": [],
   "source": []
  },
  {
   "cell_type": "code",
   "execution_count": null,
   "id": "97ec78c3",
   "metadata": {},
   "outputs": [],
   "source": []
  },
  {
   "cell_type": "code",
   "execution_count": null,
   "id": "deb72c12",
   "metadata": {},
   "outputs": [],
   "source": []
  }
 ],
 "metadata": {
  "kernelspec": {
   "display_name": "Python 3 (ipykernel)",
   "language": "python",
   "name": "python3"
  },
  "language_info": {
   "codemirror_mode": {
    "name": "ipython",
    "version": 3
   },
   "file_extension": ".py",
   "mimetype": "text/x-python",
   "name": "python",
   "nbconvert_exporter": "python",
   "pygments_lexer": "ipython3",
   "version": "3.11.7"
  }
 },
 "nbformat": 4,
 "nbformat_minor": 5
}
